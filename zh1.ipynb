{
    "metadata": {
        "kernelspec": {
            "name": "SQL",
            "display_name": "SQL",
            "language": "sql"
        },
        "language_info": {
            "name": "sql",
            "version": ""
        }
    },
    "nbformat_minor": 2,
    "nbformat": 4,
    "cells": [
        {
            "cell_type": "code",
            "source": [
                "SELECT COUNT(*) AS 'Foglalások száma'\r\n",
                "FROM Foglalas\r\n",
                "WHERE YEAR(METTOL) = YEAR(MEDDIG) AND MONTH(METTOL) <> MONTH(MEDDIG)"
            ],
            "metadata": {
                "azdata_cell_guid": "db169a81-3638-40b8-9892-46c43469ecd2",
                "language": "sql"
            },
            "outputs": [
                {
                    "output_type": "display_data",
                    "data": {
                        "text/html": "(1 row affected)"
                    },
                    "metadata": {}
                },
                {
                    "output_type": "display_data",
                    "data": {
                        "text/html": "Total execution time: 00:00:00.007"
                    },
                    "metadata": {}
                },
                {
                    "output_type": "execute_result",
                    "metadata": {},
                    "execution_count": 5,
                    "data": {
                        "application/vnd.dataresource+json": {
                            "schema": {
                                "fields": [
                                    {
                                        "name": "Foglalások száma"
                                    }
                                ]
                            },
                            "data": [
                                {
                                    "Foglalások száma": "131"
                                }
                            ]
                        },
                        "text/html": [
                            "<table>",
                            "<tr><th>Foglalások száma</th></tr>",
                            "<tr><td>131</td></tr>",
                            "</table>"
                        ]
                    }
                }
            ],
            "execution_count": 5
        }
    ]
}